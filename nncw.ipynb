{
 "cells": [
  {
   "cell_type": "code",
   "execution_count": 1,
   "metadata": {
    "executionInfo": {
     "elapsed": 2450,
     "status": "ok",
     "timestamp": 1615991459232,
     "user": {
      "displayName": "Andy Pack",
      "photoUrl": "https://lh3.googleusercontent.com/a-/AOh14GjA4K4ZhdArHXAFbAGr4n0aCv2HmyUpx4cy6zcUq34=s64",
      "userId": "16615063155528027547"
     },
     "user_tz": 0
    },
    "id": "TGIxH9Tmt5zp"
   },
   "outputs": [],
   "source": [
    "import numpy as np\n",
    "import pandas as pd\n",
    "import tensorflow as tf\n",
    "import tensorflow.keras.optimizers as tf_optim\n",
    "tf.get_logger().setLevel('ERROR')\n",
    "\n",
    "import matplotlib.pyplot as plt\n",
    "import matplotlib as mpl\n",
    "import seaborn as sns\n",
    "import random\n",
    "import pickle\n",
    "import json\n",
    "import math\n",
    "import datetime\n",
    "import os\n",
    "\n",
    "from sklearn.model_selection import train_test_split\n",
    "\n",
    "fig_dpi = 70"
   ]
  },
  {
   "cell_type": "markdown",
   "metadata": {
    "id": "fksHv5rXACEX"
   },
   "source": [
    "# Neural Network Training\n"
   ]
  },
  {
   "cell_type": "markdown",
   "metadata": {
    "id": "l4zqVWyRAM0Z"
   },
   "source": [
    "## Load Dataset\n",
    "\n",
    "Read CSVs dumped from MatLab and parse into Pandas DataFrames"
   ]
  },
  {
   "cell_type": "code",
   "execution_count": 2,
   "metadata": {
    "colab": {
     "base_uri": "https://localhost:8080/",
     "height": 331
    },
    "executionInfo": {
     "elapsed": 2441,
     "status": "ok",
     "timestamp": 1615991459234,
     "user": {
      "displayName": "Andy Pack",
      "photoUrl": "https://lh3.googleusercontent.com/a-/AOh14GjA4K4ZhdArHXAFbAGr4n0aCv2HmyUpx4cy6zcUq34=s64",
      "userId": "16615063155528027547"
     },
     "user_tz": 0
    },
    "id": "Hj5l_tdZuYh7",
    "outputId": "fbfa9406-f662-4ebc-8ba2-67950714627c"
   },
   "outputs": [
    {
     "data": {
      "text/html": [
       "<div>\n",
       "<style scoped>\n",
       "    .dataframe tbody tr th:only-of-type {\n",
       "        vertical-align: middle;\n",
       "    }\n",
       "\n",
       "    .dataframe tbody tr th {\n",
       "        vertical-align: top;\n",
       "    }\n",
       "\n",
       "    .dataframe thead th {\n",
       "        text-align: right;\n",
       "    }\n",
       "</style>\n",
       "<table border=\"1\" class=\"dataframe\">\n",
       "  <thead>\n",
       "    <tr style=\"text-align: right;\">\n",
       "      <th></th>\n",
       "      <th>Clump thickness</th>\n",
       "      <th>Uniformity of cell size</th>\n",
       "      <th>Uniformity of cell shape</th>\n",
       "      <th>Marginal adhesion</th>\n",
       "      <th>Single epithelial cell size</th>\n",
       "      <th>Bare nuclei</th>\n",
       "      <th>Bland chomatin</th>\n",
       "      <th>Normal nucleoli</th>\n",
       "      <th>Mitoses</th>\n",
       "    </tr>\n",
       "  </thead>\n",
       "  <tbody>\n",
       "    <tr>\n",
       "      <th>count</th>\n",
       "      <td>699.000000</td>\n",
       "      <td>699.000000</td>\n",
       "      <td>699.000000</td>\n",
       "      <td>699.000000</td>\n",
       "      <td>699.000000</td>\n",
       "      <td>699.000000</td>\n",
       "      <td>699.000000</td>\n",
       "      <td>699.000000</td>\n",
       "      <td>699.000000</td>\n",
       "    </tr>\n",
       "    <tr>\n",
       "      <th>mean</th>\n",
       "      <td>0.441774</td>\n",
       "      <td>0.313448</td>\n",
       "      <td>0.320744</td>\n",
       "      <td>0.280687</td>\n",
       "      <td>0.321602</td>\n",
       "      <td>0.354363</td>\n",
       "      <td>0.343777</td>\n",
       "      <td>0.286695</td>\n",
       "      <td>0.158941</td>\n",
       "    </tr>\n",
       "    <tr>\n",
       "      <th>std</th>\n",
       "      <td>0.281574</td>\n",
       "      <td>0.305146</td>\n",
       "      <td>0.297191</td>\n",
       "      <td>0.285538</td>\n",
       "      <td>0.221430</td>\n",
       "      <td>0.360186</td>\n",
       "      <td>0.243836</td>\n",
       "      <td>0.305363</td>\n",
       "      <td>0.171508</td>\n",
       "    </tr>\n",
       "    <tr>\n",
       "      <th>min</th>\n",
       "      <td>0.100000</td>\n",
       "      <td>0.100000</td>\n",
       "      <td>0.100000</td>\n",
       "      <td>0.100000</td>\n",
       "      <td>0.100000</td>\n",
       "      <td>0.100000</td>\n",
       "      <td>0.100000</td>\n",
       "      <td>0.100000</td>\n",
       "      <td>0.100000</td>\n",
       "    </tr>\n",
       "    <tr>\n",
       "      <th>25%</th>\n",
       "      <td>0.200000</td>\n",
       "      <td>0.100000</td>\n",
       "      <td>0.100000</td>\n",
       "      <td>0.100000</td>\n",
       "      <td>0.200000</td>\n",
       "      <td>0.100000</td>\n",
       "      <td>0.200000</td>\n",
       "      <td>0.100000</td>\n",
       "      <td>0.100000</td>\n",
       "    </tr>\n",
       "    <tr>\n",
       "      <th>50%</th>\n",
       "      <td>0.400000</td>\n",
       "      <td>0.100000</td>\n",
       "      <td>0.100000</td>\n",
       "      <td>0.100000</td>\n",
       "      <td>0.200000</td>\n",
       "      <td>0.100000</td>\n",
       "      <td>0.300000</td>\n",
       "      <td>0.100000</td>\n",
       "      <td>0.100000</td>\n",
       "    </tr>\n",
       "    <tr>\n",
       "      <th>75%</th>\n",
       "      <td>0.600000</td>\n",
       "      <td>0.500000</td>\n",
       "      <td>0.500000</td>\n",
       "      <td>0.400000</td>\n",
       "      <td>0.400000</td>\n",
       "      <td>0.500000</td>\n",
       "      <td>0.500000</td>\n",
       "      <td>0.400000</td>\n",
       "      <td>0.100000</td>\n",
       "    </tr>\n",
       "    <tr>\n",
       "      <th>max</th>\n",
       "      <td>1.000000</td>\n",
       "      <td>1.000000</td>\n",
       "      <td>1.000000</td>\n",
       "      <td>1.000000</td>\n",
       "      <td>1.000000</td>\n",
       "      <td>1.000000</td>\n",
       "      <td>1.000000</td>\n",
       "      <td>1.000000</td>\n",
       "      <td>1.000000</td>\n",
       "    </tr>\n",
       "  </tbody>\n",
       "</table>\n",
       "</div>"
      ],
      "text/plain": [
       "       Clump thickness  Uniformity of cell size  Uniformity of cell shape  \\\n",
       "count       699.000000               699.000000                699.000000   \n",
       "mean          0.441774                 0.313448                  0.320744   \n",
       "std           0.281574                 0.305146                  0.297191   \n",
       "min           0.100000                 0.100000                  0.100000   \n",
       "25%           0.200000                 0.100000                  0.100000   \n",
       "50%           0.400000                 0.100000                  0.100000   \n",
       "75%           0.600000                 0.500000                  0.500000   \n",
       "max           1.000000                 1.000000                  1.000000   \n",
       "\n",
       "       Marginal adhesion  Single epithelial cell size  Bare nuclei  \\\n",
       "count         699.000000                   699.000000   699.000000   \n",
       "mean            0.280687                     0.321602     0.354363   \n",
       "std             0.285538                     0.221430     0.360186   \n",
       "min             0.100000                     0.100000     0.100000   \n",
       "25%             0.100000                     0.200000     0.100000   \n",
       "50%             0.100000                     0.200000     0.100000   \n",
       "75%             0.400000                     0.400000     0.500000   \n",
       "max             1.000000                     1.000000     1.000000   \n",
       "\n",
       "       Bland chomatin  Normal nucleoli     Mitoses  \n",
       "count      699.000000       699.000000  699.000000  \n",
       "mean         0.343777         0.286695    0.158941  \n",
       "std          0.243836         0.305363    0.171508  \n",
       "min          0.100000         0.100000    0.100000  \n",
       "25%          0.200000         0.100000    0.100000  \n",
       "50%          0.300000         0.100000    0.100000  \n",
       "75%          0.500000         0.400000    0.100000  \n",
       "max          1.000000         1.000000    1.000000  "
      ]
     },
     "execution_count": 2,
     "metadata": {},
     "output_type": "execute_result"
    }
   ],
   "source": [
    "data = pd.read_csv('features.csv', header=None).T\n",
    "data.columns = ['Clump thickness', 'Uniformity of cell size', 'Uniformity of cell shape', 'Marginal adhesion', 'Single epithelial cell size', 'Bare nuclei', 'Bland chomatin', 'Normal nucleoli', 'Mitoses']\n",
    "labels = pd.read_csv('targets.csv', header=None).T\n",
    "labels.columns = ['Benign', 'Malignant']\n",
    "data.describe()"
   ]
  },
  {
   "cell_type": "code",
   "execution_count": 31,
   "metadata": {
    "colab": {
     "base_uri": "https://localhost:8080/",
     "height": 204
    },
    "executionInfo": {
     "elapsed": 2436,
     "status": "ok",
     "timestamp": 1615991459236,
     "user": {
      "displayName": "Andy Pack",
      "photoUrl": "https://lh3.googleusercontent.com/a-/AOh14GjA4K4ZhdArHXAFbAGr4n0aCv2HmyUpx4cy6zcUq34=s64",
      "userId": "16615063155528027547"
     },
     "user_tz": 0
    },
    "id": "qc1Mku6h041u",
    "outputId": "94e38c34-0419-4a02-ac8c-17bbc83f777b"
   },
   "outputs": [
    {
     "data": {
      "text/html": [
       "<div>\n",
       "<style scoped>\n",
       "    .dataframe tbody tr th:only-of-type {\n",
       "        vertical-align: middle;\n",
       "    }\n",
       "\n",
       "    .dataframe tbody tr th {\n",
       "        vertical-align: top;\n",
       "    }\n",
       "\n",
       "    .dataframe thead th {\n",
       "        text-align: right;\n",
       "    }\n",
       "</style>\n",
       "<table border=\"1\" class=\"dataframe\">\n",
       "  <thead>\n",
       "    <tr style=\"text-align: right;\">\n",
       "      <th></th>\n",
       "      <th>Benign</th>\n",
       "      <th>Malignant</th>\n",
       "    </tr>\n",
       "  </thead>\n",
       "  <tbody>\n",
       "    <tr>\n",
       "      <th>0</th>\n",
       "      <td>1</td>\n",
       "      <td>0</td>\n",
       "    </tr>\n",
       "    <tr>\n",
       "      <th>1</th>\n",
       "      <td>1</td>\n",
       "      <td>0</td>\n",
       "    </tr>\n",
       "    <tr>\n",
       "      <th>2</th>\n",
       "      <td>1</td>\n",
       "      <td>0</td>\n",
       "    </tr>\n",
       "    <tr>\n",
       "      <th>3</th>\n",
       "      <td>0</td>\n",
       "      <td>1</td>\n",
       "    </tr>\n",
       "    <tr>\n",
       "      <th>4</th>\n",
       "      <td>1</td>\n",
       "      <td>0</td>\n",
       "    </tr>\n",
       "  </tbody>\n",
       "</table>\n",
       "</div>"
      ],
      "text/plain": [
       "   Benign  Malignant\n",
       "0       1          0\n",
       "1       1          0\n",
       "2       1          0\n",
       "3       0          1\n",
       "4       1          0"
      ]
     },
     "execution_count": 31,
     "metadata": {},
     "output_type": "execute_result"
    }
   ],
   "source": [
    "labels.head()"
   ]
  },
  {
   "cell_type": "markdown",
   "metadata": {
    "id": "h9QsJjWEMbLu"
   },
   "source": [
    "### Explore Dataset\n",
    "\n",
    "The classes are uneven in their occurences, stratify when splitting later on"
   ]
  },
  {
   "cell_type": "code",
   "execution_count": 5,
   "metadata": {
    "colab": {
     "base_uri": "https://localhost:8080/"
    },
    "executionInfo": {
     "elapsed": 2430,
     "status": "ok",
     "timestamp": 1615991459237,
     "user": {
      "displayName": "Andy Pack",
      "photoUrl": "https://lh3.googleusercontent.com/a-/AOh14GjA4K4ZhdArHXAFbAGr4n0aCv2HmyUpx4cy6zcUq34=s64",
      "userId": "16615063155528027547"
     },
     "user_tz": 0
    },
    "id": "rjjiSYAZMa4k",
    "outputId": "ae0c3772-00be-4f2b-80d2-9cd62a6b6e08"
   },
   "outputs": [
    {
     "data": {
      "text/plain": [
       "Benign       458\n",
       "Malignant    241\n",
       "dtype: int64"
      ]
     },
     "execution_count": 5,
     "metadata": {},
     "output_type": "execute_result"
    }
   ],
   "source": [
    "labels.astype(bool).sum(axis=0)"
   ]
  },
  {
   "cell_type": "markdown",
   "metadata": {
    "id": "E9lVYI14AUMf"
   },
   "source": [
    "## Split Dataset\n",
    "\n",
    "Using a 50/50 split"
   ]
  },
  {
   "cell_type": "code",
   "execution_count": 3,
   "metadata": {
    "executionInfo": {
     "elapsed": 2604,
     "status": "ok",
     "timestamp": 1615991459418,
     "user": {
      "displayName": "Andy Pack",
      "photoUrl": "https://lh3.googleusercontent.com/a-/AOh14GjA4K4ZhdArHXAFbAGr4n0aCv2HmyUpx4cy6zcUq34=s64",
      "userId": "16615063155528027547"
     },
     "user_tz": 0
    },
    "id": "L83Ae5l9wM35"
   },
   "outputs": [],
   "source": [
    "data_train, data_test, labels_train, labels_test = train_test_split(data, labels, test_size=0.5, stratify=labels)"
   ]
  },
  {
   "cell_type": "markdown",
   "metadata": {
    "id": "Qf2U199fNjmJ"
   },
   "source": [
    "## Generate & Retrieve Model\n",
    "\n",
    "Get a shallow model with a single hidden layer of varying nodes"
   ]
  },
  {
   "cell_type": "code",
   "execution_count": 4,
   "metadata": {
    "executionInfo": {
     "elapsed": 2598,
     "status": "ok",
     "timestamp": 1615991459419,
     "user": {
      "displayName": "Andy Pack",
      "photoUrl": "https://lh3.googleusercontent.com/a-/AOh14GjA4K4ZhdArHXAFbAGr4n0aCv2HmyUpx4cy6zcUq34=s64",
      "userId": "16615063155528027547"
     },
     "user_tz": 0
    },
    "id": "SgoQ-NjWB0T5"
   },
   "outputs": [],
   "source": [
    "def get_model(hidden_nodes=9, activation=lambda: 'sigmoid', weight_init=lambda: 'glorot_uniform'):\n",
    "    layers = [tf.keras.layers.InputLayer(input_shape=(9,), name='Input'), \n",
    "              tf.keras.layers.Dense(hidden_nodes, activation=activation(), kernel_initializer=weight_init(), name='Hidden'), \n",
    "              tf.keras.layers.Dense(2, activation='softmax', kernel_initializer=weight_init(), name='Output')]\n",
    "\n",
    "    model = tf.keras.models.Sequential(layers)\n",
    "    return model"
   ]
  },
  {
   "cell_type": "markdown",
   "metadata": {},
   "source": [
    "Get a Keras Tensorboard callback for dumping data for later analysis"
   ]
  },
  {
   "cell_type": "code",
   "execution_count": 5,
   "metadata": {},
   "outputs": [],
   "source": [
    "def tensorboard_callback(path='tensorboard-logs', prefix=''):\n",
    "    return tf.keras.callbacks.TensorBoard(\n",
    "        log_dir=os.path.normpath(os.path.join(path, prefix + datetime.datetime.now().strftime(\"%Y%m%d-%H%M%S\"))), histogram_freq=1\n",
    "    ) "
   ]
  },
  {
   "cell_type": "markdown",
   "metadata": {
    "id": "QT5B9PTUN3pj"
   },
   "source": [
    "# Example Training"
   ]
  },
  {
   "cell_type": "markdown",
   "metadata": {
    "id": "mQGAUtIPAd6e"
   },
   "source": [
    "## Define Model\n",
    "\n",
    "Variable number of hidden nodes. All using 9D outputs except the last layer which is 2D for binary classification"
   ]
  },
  {
   "cell_type": "code",
   "execution_count": 60,
   "metadata": {
    "colab": {
     "base_uri": "https://localhost:8080/"
    },
    "executionInfo": {
     "elapsed": 7889,
     "status": "ok",
     "timestamp": 1615991464716,
     "user": {
      "displayName": "Andy Pack",
      "photoUrl": "https://lh3.googleusercontent.com/a-/AOh14GjA4K4ZhdArHXAFbAGr4n0aCv2HmyUpx4cy6zcUq34=s64",
      "userId": "16615063155528027547"
     },
     "user_tz": 0
    },
    "id": "fYA34P0Vu_pX",
    "outputId": "aded18b8-aa7f-4362-a614-837c8a0f526f"
   },
   "outputs": [
    {
     "name": "stdout",
     "output_type": "stream",
     "text": [
      "Model: \"sequential_1\"\n",
      "_________________________________________________________________\n",
      "Layer (type)                 Output Shape              Param #   \n",
      "=================================================================\n",
      "dense_2 (Dense)              (None, 9)                 90        \n",
      "_________________________________________________________________\n",
      "dense_3 (Dense)              (None, 2)                 20        \n",
      "=================================================================\n",
      "Total params: 110\n",
      "Trainable params: 110\n",
      "Non-trainable params: 0\n",
      "_________________________________________________________________\n"
     ]
    }
   ],
   "source": [
    "model = get_model(9)\n",
    "model.compile('sgd', loss='categorical_crossentropy', metrics=['accuracy'])\n",
    "model.summary()"
   ]
  },
  {
   "cell_type": "markdown",
   "metadata": {
    "id": "KZSwFe-AAs1y"
   },
   "source": [
    "## Train Model\n",
    "\n",
    "Example 10 epochs"
   ]
  },
  {
   "cell_type": "code",
   "execution_count": 61,
   "metadata": {
    "colab": {
     "base_uri": "https://localhost:8080/"
    },
    "executionInfo": {
     "elapsed": 11304,
     "status": "ok",
     "timestamp": 1615991468137,
     "user": {
      "displayName": "Andy Pack",
      "photoUrl": "https://lh3.googleusercontent.com/a-/AOh14GjA4K4ZhdArHXAFbAGr4n0aCv2HmyUpx4cy6zcUq34=s64",
      "userId": "16615063155528027547"
     },
     "user_tz": 0
    },
    "id": "s8U9Atu3zelS",
    "outputId": "8439e8d2-7a5d-495f-a192-a34f01e95bfa"
   },
   "outputs": [
    {
     "name": "stdout",
     "output_type": "stream",
     "text": [
      "Epoch 1/5\n",
      "11/11 [==============================] - 1s 2ms/step - loss: 0.6257 - accuracy: 0.6607\n",
      "Epoch 2/5\n",
      "11/11 [==============================] - 0s 3ms/step - loss: 0.6226 - accuracy: 0.6651\n",
      "Epoch 3/5\n",
      "11/11 [==============================] - 0s 2ms/step - loss: 0.6326 - accuracy: 0.6424\n",
      "Epoch 4/5\n",
      "11/11 [==============================] - 0s 3ms/step - loss: 0.6158 - accuracy: 0.6696\n",
      "Epoch 5/5\n",
      "11/11 [==============================] - 0s 2ms/step - loss: 0.6228 - accuracy: 0.6534\n"
     ]
    },
    {
     "data": {
      "text/plain": [
       "<tensorflow.python.keras.callbacks.History at 0x2cd249f3400>"
      ]
     },
     "execution_count": 61,
     "metadata": {},
     "output_type": "execute_result"
    }
   ],
   "source": [
    "model.fit(data_train.to_numpy(), labels_train.to_numpy(), epochs=5)"
   ]
  },
  {
   "cell_type": "code",
   "execution_count": 62,
   "metadata": {
    "colab": {
     "base_uri": "https://localhost:8080/"
    },
    "executionInfo": {
     "elapsed": 11294,
     "status": "ok",
     "timestamp": 1615991468137,
     "user": {
      "displayName": "Andy Pack",
      "photoUrl": "https://lh3.googleusercontent.com/a-/AOh14GjA4K4ZhdArHXAFbAGr4n0aCv2HmyUpx4cy6zcUq34=s64",
      "userId": "16615063155528027547"
     },
     "user_tz": 0
    },
    "id": "VnUEJdXovzi-",
    "outputId": "02075086-352c-4a23-fac5-ad54d11e0e35"
   },
   "outputs": [
    {
     "data": {
      "text/plain": [
       "['loss', 'accuracy']"
      ]
     },
     "execution_count": 62,
     "metadata": {},
     "output_type": "execute_result"
    }
   ],
   "source": [
    "model.metrics_names"
   ]
  },
  {
   "cell_type": "code",
   "execution_count": 63,
   "metadata": {
    "colab": {
     "base_uri": "https://localhost:8080/"
    },
    "executionInfo": {
     "elapsed": 11285,
     "status": "ok",
     "timestamp": 1615991468138,
     "user": {
      "displayName": "Andy Pack",
      "photoUrl": "https://lh3.googleusercontent.com/a-/AOh14GjA4K4ZhdArHXAFbAGr4n0aCv2HmyUpx4cy6zcUq34=s64",
      "userId": "16615063155528027547"
     },
     "user_tz": 0
    },
    "id": "r0vxP3Ah42ib",
    "outputId": "061113ba-52db-4fbe-c7f9-b5d3d85438ed"
   },
   "outputs": [
    {
     "data": {
      "text/plain": [
       "<tf.Tensor: shape=(), dtype=float32, numpy=0.6561605>"
      ]
     },
     "execution_count": 63,
     "metadata": {},
     "output_type": "execute_result"
    }
   ],
   "source": [
    "model.metrics[1].result()"
   ]
  },
  {
   "cell_type": "markdown",
   "metadata": {
    "id": "z7bn8pKTAynt",
    "tags": [
     "exp1"
    ]
   },
   "source": [
    "# Experiment 1\n",
    "\n",
    "The below function runs an iteration of layer/epoch investigations.\n",
    "Returns the amount of layers/epochs used as well as the results and the model.\n",
    "\n",
    "Using cancer dataset (as in E2) and 'trainscg' or an optimiser of your choice, vary nodes and epochs (that is using early stopping for epochs) over suitable range, to find optimal choice in terms of classification test error rate of node/epochs for 50/50% random train/test split (no validation set). It is suggested that you initially try epochs = [ 1 2 4 8 16 32 64], nodes = [2 8 32], so there would be 21 node/epoch combinations. \n",
    "\n",
    "(Hint1: from the 'advanced script' in E2, nodes can be changed to xx, with hiddenLayerSize = xx; and epochs changed to xx by addingnet. trainParam.epochs = xx; placed afternet = patternnet(hiddenLayerSize, trainFcn); --see 'trainscg' help documentation for changing epochs). \n",
    "\n",
    "Repeat each of the 21 node/epoch combinations at least thirty times, with different 50/50 split and take average and report classification error rate and standard deviation (std). Graph classification train and test error rate and std as node-epoch changes, that is plot error rate vs epochs for different number of nodes. Report the optimal value for test error rate and associated node/epoch values. \n",
    "\n",
    "(Hint2: as epochs increases you can expect the test error rate to reach a minimum and then start increasing, you may need to set the stopping criteria to achieve the desired number of epochs - Hint 3: to find classification error rates for train and test set, you need to check the code from E2, to determine how you may obtain the train and test set patterns)\n"
   ]
  },
  {
   "cell_type": "code",
   "execution_count": 16,
   "metadata": {
    "executionInfo": {
     "elapsed": 11274,
     "status": "ok",
     "timestamp": 1615991468138,
     "user": {
      "displayName": "Andy Pack",
      "photoUrl": "https://lh3.googleusercontent.com/a-/AOh14GjA4K4ZhdArHXAFbAGr4n0aCv2HmyUpx4cy6zcUq34=s64",
      "userId": "16615063155528027547"
     },
     "user_tz": 0
    },
    "id": "mYWhCSW4A57V",
    "tags": [
     "exp1",
     "exp-func"
    ]
   },
   "outputs": [],
   "source": [
    "# hidden_nodes = [2, 8, 16, 24, 32]\n",
    "# epochs = [1, 2, 4, 8, 16, 32, 64, 100, 150, 200]\n",
    "hidden_nodes = [2, 8, 16]\n",
    "epochs = [1, 2, 4, 8]\n",
    "\n",
    "def evaluate_parameters(hidden_nodes=hidden_nodes, \n",
    "                        epochs=epochs, \n",
    "                        batch_size=128,\n",
    "                        optimizer=lambda: 'sgd',\n",
    "                        loss=lambda: 'categorical_crossentropy',\n",
    "                        metrics=['accuracy'],\n",
    "                        callbacks=None,\n",
    "                        validation_split=None,\n",
    "\n",
    "                        verbose=0,\n",
    "                        print_params=True,\n",
    "                        return_model=True,\n",
    "                        run_eagerly=False,\n",
    "                        tboard=True,\n",
    "                        \n",
    "                        dtrain=data_train,\n",
    "                        dtest=data_test,\n",
    "                        ltrain=labels_train,\n",
    "                        ltest=labels_test):\n",
    "    for idx1, hn in enumerate(hidden_nodes):\n",
    "        for idx2, e in enumerate(epochs):\n",
    "            if print_params:\n",
    "                print(f\"Nodes: {hn}, Epochs: {e}\")\n",
    "\n",
    "            model = get_model(hn)\n",
    "            model.compile(\n",
    "                optimizer=optimizer(),\n",
    "                loss=loss(),\n",
    "                metrics=metrics,\n",
    "                run_eagerly=run_eagerly\n",
    "                )\n",
    "            \n",
    "            if tboard:\n",
    "                if callbacks is not None:\n",
    "                    cb = [i() for i in callbacks] + [tensorboard_callback(prefix=f'exp1-{hn}-{e}-')]\n",
    "                else:\n",
    "                    cb = [tensorboard_callback(prefix=f'exp1-{hn}-{e}-')]\n",
    "            \n",
    "            response = {\"nodes\": hn, \n",
    "                        \"epochs\": e,\n",
    "                        ##############\n",
    "                        ##   TRAIN\n",
    "                        ##############\n",
    "                        \"history\": model.fit(dtrain.to_numpy(), \n",
    "                                             ltrain.to_numpy(), \n",
    "                                             epochs=e, \n",
    "                                             verbose=verbose,\n",
    "                                             \n",
    "                                             callbacks=cb,\n",
    "                                             validation_split=validation_split).history,\n",
    "                        ##############\n",
    "                        ##   TEST\n",
    "                        ##############\n",
    "                        \"results\": model.evaluate(dtest.to_numpy(), \n",
    "                                                 ltest.to_numpy(),\n",
    "                                                 callbacks=cb,\n",
    "                                                 batch_size=batch_size, \n",
    "                                                 verbose=verbose),\n",
    "                        \"optimizer\": model.optimizer.get_config(),\n",
    "                        \"loss\": model.loss,\n",
    "                        \"model_config\": json.loads(model.to_json())\n",
    "                       }\n",
    "\n",
    "            if return_model:\n",
    "                response[\"model\"] = model\n",
    "\n",
    "            yield response"
   ]
  },
  {
   "cell_type": "markdown",
   "metadata": {
    "id": "r-63V9qb-i4w",
    "tags": [
     "exp1"
    ]
   },
   "source": [
    "## Single Iteration\n",
    "Run a single iteration of epoch/layer investigations"
   ]
  },
  {
   "cell_type": "code",
   "execution_count": 17,
   "metadata": {
    "colab": {
     "base_uri": "https://localhost:8080/"
    },
    "executionInfo": {
     "elapsed": 313592,
     "status": "ok",
     "timestamp": 1615991770468,
     "user": {
      "displayName": "Andy Pack",
      "photoUrl": "https://lh3.googleusercontent.com/a-/AOh14GjA4K4ZhdArHXAFbAGr4n0aCv2HmyUpx4cy6zcUq34=s64",
      "userId": "16615063155528027547"
     },
     "user_tz": 0
    },
    "id": "ZmGFkE9y8E4H",
    "outputId": "243fb136-bc07-4438-afb7-f2d21758168d",
    "tags": [
     "exp1"
    ]
   },
   "outputs": [
    {
     "name": "stdout",
     "output_type": "stream",
     "text": [
      "Nodes: 2, Epochs: 1\n",
      "Nodes: 2, Epochs: 2\n",
      "Nodes: 2, Epochs: 4\n",
      "Nodes: 2, Epochs: 8\n",
      "Nodes: 8, Epochs: 1\n",
      "Nodes: 8, Epochs: 2\n",
      "Nodes: 8, Epochs: 4\n",
      "Nodes: 8, Epochs: 8\n",
      "Nodes: 16, Epochs: 1\n",
      "Nodes: 16, Epochs: 2\n",
      "Nodes: 16, Epochs: 4\n",
      "Nodes: 16, Epochs: 8\n"
     ]
    }
   ],
   "source": [
    "# es = tf.keras.callbacks.EarlyStopping(monitor='val_loss', mode='min', patience = 5)\n",
    "single_results = list(evaluate_parameters(return_model=False, validation_split=0.2\n",
    "                                          , optimizer = lambda: tf.keras.optimizers.SGD(learning_rate=0.5, momentum=0.5)\n",
    "#                                           , callbacks=[es]\n",
    "                                         ))"
   ]
  },
  {
   "cell_type": "markdown",
   "metadata": {
    "id": "mdWK3-M6SK8_",
    "tags": [
     "exp1"
    ]
   },
   "source": [
    "### Train/Test Curves\n",
    "\n",
    "For a single test from the set"
   ]
  },
  {
   "cell_type": "code",
   "execution_count": 68,
   "metadata": {
    "colab": {
     "base_uri": "https://localhost:8080/",
     "height": 517
    },
    "executionInfo": {
     "elapsed": 314527,
     "status": "ok",
     "timestamp": 1615991771417,
     "user": {
      "displayName": "Andy Pack",
      "photoUrl": "https://lh3.googleusercontent.com/a-/AOh14GjA4K4ZhdArHXAFbAGr4n0aCv2HmyUpx4cy6zcUq34=s64",
      "userId": "16615063155528027547"
     },
     "user_tz": 0
    },
    "id": "F9Xre1o6SesD",
    "outputId": "d6b817aa-58cd-4510-807f-e5e6bcf62f18",
    "tags": [
     "exp1"
    ]
   },
   "outputs": [
    {
     "name": "stdout",
     "output_type": "stream",
     "text": [
      "Nodes: 2, Epochs: 4\n"
     ]
    },
    {
     "data": {
      "image/png": "[encoded data removed]",
      "text/plain": [
       "<Figure size 1050x490 with 2 Axes>"
      ]
     },
     "metadata": {
      "needs_background": "light"
     },
     "output_type": "display_data"
    }
   ],
   "source": [
    "single_result = random.choice([i for i in single_results if i[\"epochs\"] > 1])\n",
    "single_history = single_result[\"history\"]\n",
    "\n",
    "fig, axes = plt.subplots(1, 2, figsize=(15,7))\n",
    "fig.set_dpi(fig_dpi)\n",
    "\n",
    "################\n",
    "##    LOSS\n",
    "################\n",
    "ax = axes[0]\n",
    "ax.set_title(\"Training vs Validation Loss\")\n",
    "ax.plot(single_history['loss'], label=\"train\", lw=2)\n",
    "ax.plot(single_history['val_loss'], label=\"validation\", lw=2, c=(1,0,0))\n",
    "ax.set_xlabel(\"Epochs\")\n",
    "ax.grid()\n",
    "ax.legend()\n",
    "\n",
    "################\n",
    "##  ACCURACY\n",
    "################\n",
    "ax = axes[1]\n",
    "ax.set_title(\"Training vs Validation Accuracy\")\n",
    "ax.plot(single_history['accuracy'], label=\"train\", lw=2)\n",
    "ax.plot(single_history['val_accuracy'], label=\"validation\", lw=2, c=(1,0,0))\n",
    "ax.set_xlabel(\"Epochs\")\n",
    "# ax.set_ylim(0, 1)\n",
    "ax.grid()\n",
    "ax.legend()\n",
    "\n",
    "print(f\"Nodes: {single_result['nodes']}, Epochs: {single_result['epochs']}\")\n",
    "# plt.tight_layout()\n",
    "# plt.savefig('fig.png')\n",
    "plt.show()"
   ]
  },
  {
   "cell_type": "markdown",
   "metadata": {
    "id": "0IQ7HfJCSDud",
    "tags": [
     "exp1"
    ]
   },
   "source": [
    "### Accuracy Surface"
   ]
  },
  {
   "cell_type": "code",
   "execution_count": 69,
   "metadata": {
    "colab": {
     "base_uri": "https://localhost:8080/",
     "height": 705
    },
    "executionInfo": {
     "elapsed": 315450,
     "status": "ok",
     "timestamp": 1615991772345,
     "user": {
      "displayName": "Andy Pack",
      "photoUrl": "https://lh3.googleusercontent.com/a-/AOh14GjA4K4ZhdArHXAFbAGr4n0aCv2HmyUpx4cy6zcUq34=s64",
      "userId": "16615063155528027547"
     },
     "user_tz": 0
    },
    "id": "X3MWHLxJElbc",
    "outputId": "134671d0-bfd3-4ee6-aa02-1a2a5b23f3ca",
    "tags": [
     "exp1"
    ]
   },
   "outputs": [
    {
     "data": {
      "image/png": "[encoded data removed]",
      "text/plain": [
       "<Figure size 560x350 with 2 Axes>"
      ]
     },
     "metadata": {
      "needs_background": "light"
     },
     "output_type": "display_data"
    }
   ],
   "source": [
    "X, Y = np.meshgrid(epochs, hidden_nodes)\n",
    "\n",
    "shaped_result = np.reshape([r[\"results\"][1] for r in single_results], \n",
    "                           (len(hidden_nodes), len(epochs)))\n",
    "\n",
    "fig = plt.figure(figsize=(8, 5))\n",
    "fig.set_dpi(fig_dpi)\n",
    "ax = plt.axes(projection='3d')\n",
    "\n",
    "surf = ax.plot_surface(X, Y, shaped_result, cmap='viridis')\n",
    "ax.set_title('Model test accuracy over different training periods with different numbers of nodes')\n",
    "ax.set_xlabel('Epochs')\n",
    "ax.set_ylabel('Hidden Nodes')\n",
    "ax.set_zlabel('Accuracy')\n",
    "ax.view_init(30, -110)\n",
    "# ax.set_zlim([0, 1])\n",
    "fig.colorbar(surf, shrink=0.3, aspect=6)\n",
    "\n",
    "plt.tight_layout()\n",
    "# plt.savefig('fig.png')\n",
    "plt.show()"
   ]
  },
  {
   "cell_type": "markdown",
   "metadata": {
    "id": "C793_RHvSGai",
    "tags": [
     "exp1"
    ]
   },
   "source": [
    "### Error Rate Curves"
   ]
  },
  {
   "cell_type": "code",
   "execution_count": 70,
   "metadata": {
    "colab": {
     "base_uri": "https://localhost:8080/",
     "height": 668
    },
    "executionInfo": {
     "elapsed": 316211,
     "status": "ok",
     "timestamp": 1615991773109,
     "user": {
      "displayName": "Andy Pack",
      "photoUrl": "https://lh3.googleusercontent.com/a-/AOh14GjA4K4ZhdArHXAFbAGr4n0aCv2HmyUpx4cy6zcUq34=s64",
      "userId": "16615063155528027547"
     },
     "user_tz": 0
    },
    "id": "tpClZMptrq-q",
    "outputId": "f9fe93f9-7b67-4772-83e4-9e3567fd9318",
    "tags": [
     "exp1"
    ]
   },
   "outputs": [
    {
     "data": {
      "image/png": "[encoded data removed]",
      "text/plain": [
       "<Figure size 560x350 with 1 Axes>"
      ]
     },
     "metadata": {
      "needs_background": "light"
     },
     "output_type": "display_data"
    }
   ],
   "source": [
    "fig = plt.figure(figsize=(8, 5))\n",
    "fig.set_dpi(fig_dpi)\n",
    "\n",
    "for layer in hidden_nodes:\n",
    "    plt.plot(epochs, \n",
    "             1 - np.array([i[\"results\"][1] \n",
    "                  for i in single_results \n",
    "                  if i[\"nodes\"] == layer]), \n",
    "             label=f'{layer} Nodes')\n",
    "\n",
    "plt.legend()\n",
    "plt.grid()\n",
    "plt.title(\"Test error rates for a single iteration of different epochs and hidden node training\")\n",
    "plt.xlabel(\"Epochs\")\n",
    "plt.ylabel(\"Error Rate\")\n",
    "plt.ylim(0)\n",
    "\n",
    "# plt.savefig('fig.png')\n",
    "plt.show()"
   ]
  },
  {
   "cell_type": "markdown",
   "metadata": {
    "id": "7mJaKjlCxEkt",
    "tags": [
     "exp1"
    ]
   },
   "source": [
    "## Multiple Iterations\n",
    "\n",
    "Run multiple iterations of the epoch/layer investigations and average\n",
    "\n",
    "### CSV Results\n",
    "\n",
    "| test | learning rate | momentum | batch size | hidden nodes | epochs |\n",
    "| --- | --- | --- | --- | --- | --- |\n",
    "|1|0.01|0|128|2, 8, 12, 16, 24, 32, 64, 128, 256|1, 2, 4, 8, 16, 32, 64, 100, 150, 200|\n",
    "|2|0.5|0.1|128|2, 8, 12, 16, 24, 32, 64, 128|1, 2, 4, 8, 16, 32, 64, 100|\n",
    "|3|0.2|0.05|128|2, 8, 12, 16, 24, 32, 64, 128|1, 2, 4, 8, 16, 32, 64, 100|\n",
    "|4|0.08|0.04|128|2, 8, 12, 16, 24, 32, 64, 128|1, 2, 4, 8, 16, 32, 64, 100|\n",
    "|5|0.08|0|128|2, 8, 12, 16, 24, 32, 64, 128|1, 2, 4, 8, 16, 32, 64, 100|\n",
    "|6|0.06|0|128|1, 2, 3, 4, 5, 6, 7, 8|1, 2, 4, 8, 16, 32, 64, 100|\n",
    "|7|0.06|0|35|2, 8, 12, 16, 24, 32, 64, 128|1, 2, 4, 8, 16, 32, 64, 100|\n",
    "\n",
    "### Pickle Results\n",
    "\n",
    "| test | learning rate | momentum | batch size | hidden nodes | epochs |\n",
    "| --- | --- | --- | --- | --- | --- |\n",
    "|1|0.01|0|128|2, 8, 12, 16, 24, 32, 64, 128, 256|1, 2, 4, 8, 16, 32, 64, 100, 150, 200|\n",
    "|2|0.5|0.1|128|2, 8, 12, 16, 24, 32, 64, 128|1, 2, 4, 8, 16, 32, 64, 100|\n",
    "|3|1|0.3|20|2, 8, 12, 16, 24, 32, 64, 128|1, 2, 4, 8, 16, 32, 64, 100|\n",
    "|4|0.6|0.1|20|2, 8, 16, 24, 32|1, 2, 4, 8, 16, 32, 64, 100, 150, 200|\n",
    "|5|0.05|0.01|20|2, 8, 16, 24, 32|1, 2, 4, 8, 16, 32, 64, 100, 150, 200|\n",
    "|6|1.5|0.5|20|2, 8, 16, 24, 32|1, 2, 4, 8, 16, 32, 64, 100, 150, 200|"
   ]
  },
  {
   "cell_type": "code",
   "execution_count": 30,
   "metadata": {
    "id": "-lsKo4BCP3yw",
    "tags": [
     "exp1"
    ]
   },
   "outputs": [
    {
     "name": "stdout",
     "output_type": "stream",
     "text": [
      "Iteration 1/30\n",
      "Iteration 2/30\n",
      "Iteration 3/30\n",
      "Iteration 4/30\n",
      "Iteration 5/30\n",
      "Iteration 6/30\n",
      "Iteration 7/30\n",
      "Iteration 8/30\n",
      "Iteration 9/30\n",
      "Iteration 10/30\n",
      "Iteration 11/30\n",
      "Iteration 12/30\n",
      "Iteration 13/30\n",
      "Iteration 14/30\n",
      "Iteration 15/30\n",
      "Iteration 16/30\n",
      "Iteration 17/30\n",
      "Iteration 18/30\n",
      "Iteration 19/30\n",
      "Iteration 20/30\n",
      "Iteration 21/30\n",
      "Iteration 22/30\n",
      "Iteration 23/30\n",
      "Iteration 24/30\n",
      "Iteration 25/30\n",
      "Iteration 26/30\n",
      "Iteration 27/30\n",
      "Iteration 28/30\n",
      "Iteration 29/30\n",
      "Iteration 30/30\n"
     ]
    }
   ],
   "source": [
    "multi_param_results = list()\n",
    "multi_iterations = 30\n",
    "for i in range(multi_iterations):\n",
    "    print(f\"Iteration {i+1}/{multi_iterations}\")\n",
    "    data_train, data_test, labels_train, labels_test = train_test_split(data, labels, test_size=0.5, stratify=labels)\n",
    "    multi_param_results.append(list(evaluate_parameters(dtrain=data_train, \n",
    "                                                  dtest=data_test, \n",
    "                                                  ltrain=labels_train, \n",
    "                                                  ltest=labels_test,\n",
    "                                                  optimizer=lambda: tf.keras.optimizers.SGD(learning_rate=1.5, momentum=0.5),\n",
    "                                                  return_model=False,\n",
    "                                                  print_params=False,\n",
    "                                                  batch_size=20)))"
   ]
  },
  {
   "cell_type": "markdown",
   "metadata": {
    "tags": [
     "exp1"
    ]
   },
   "source": [
    "### Accuracy Tensor\n",
    "\n",
    "Create a tensor for holding the accuracy results\n",
    "\n",
    "(Iterations x [Test/Train] x Number of nodes x Number of epochs)"
   ]
  },
  {
   "cell_type": "code",
   "execution_count": 121,
   "metadata": {
    "tags": [
     "exp1"
    ]
   },
   "outputs": [
    {
     "name": "stdout",
     "output_type": "stream",
     "text": [
      "30 Tests\n",
      "Nodes: [2, 8, 16, 24, 32]\n",
      "Epochs: [1, 2, 4, 8, 16, 32, 64, 100, 150, 200]\n",
      "\n",
      "Loss: categorical_crossentropy\n",
      "LR: 0.6\n",
      "Momentum: 0.1\n"
     ]
    }
   ],
   "source": [
    "multi_param_epochs = sorted(list({i[\"epochs\"] for i in multi_param_results[0]}))\n",
    "multi_param_nodes = sorted(list({i[\"nodes\"] for i in multi_param_results[0]}))\n",
    "multi_param_iter = len(multi_param_results)\n",
    "\n",
    "accuracy_tensor = np.zeros((multi_param_iter, 2, len(multi_param_nodes), len(multi_param_epochs)))\n",
    "for iter_idx, iteration in enumerate(multi_param_results):\n",
    "    for single_test in iteration:\n",
    "        accuracy_tensor[iter_idx, :,\n",
    "                        multi_param_nodes.index(single_test['nodes']), \n",
    "                        multi_param_epochs.index(single_test['epochs'])] = [single_test[\"results\"][1], \n",
    "                                                                            single_test[\"history\"][\"accuracy\"][-1]]\n",
    "        \n",
    "mean_param_accuracy = np.mean(accuracy_tensor, axis=0)\n",
    "std_param_accuracy = np.std(accuracy_tensor, axis=0)\n",
    "\n",
    "print(f'{multi_param_iter} Tests')\n",
    "print(f'Nodes: {multi_param_nodes}')\n",
    "print(f'Epochs: {multi_param_epochs}')\n",
    "print()\n",
    "print(f'Loss: {multi_param_results[0][0][\"loss\"]}')\n",
    "print(f'LR: {multi_param_results[0][0][\"optimizer\"][\"learning_rate\"]:.3}')\n",
    "print(f'Momentum: {multi_param_results[0][0][\"optimizer\"][\"momentum\"]:.3}')"
   ]
  },
  {
   "cell_type": "markdown",
   "metadata": {
    "tags": [
     "exp1"
    ]
   },
   "source": [
    "#### Export/Import Test Sets\n",
    "\n",
    "Export mean and standard deviations for retrieval and visualisation "
   ]
  },
  {
   "cell_type": "raw",
   "metadata": {
    "tags": [
     "exp1"
    ]
   },
   "source": [
    "pickle.dump(multi_param_results, open(\"result.p\", \"wb\"))"
   ]
  },
  {
   "cell_type": "code",
   "execution_count": 112,
   "metadata": {
    "tags": [
     "exp1"
    ]
   },
   "outputs": [],
   "source": [
    "exp1_testname = 'exp1-test4'\n",
    "multi_param_results = pickle.load(open(f\"results/{exp1_testname}.p\", \"rb\"))"
   ]
  },
  {
   "cell_type": "raw",
   "metadata": {},
   "source": [
    "np.savetxt(\"exp1-mean.csv\", mean_param_accuracy, delimiter=',')\n",
    "np.savetxt(\"exp1-std.csv\", std_param_accuracy, delimiter=',')"
   ]
  },
  {
   "cell_type": "raw",
   "metadata": {},
   "source": [
    "mean_param_accuracy = np.loadtxt(\"results/test1-exp1-mean.csv\", delimiter=',')\n",
    "std_param_accuracy = np.loadtxt(\"results/test1-exp1-std.csv\", delimiter=',')\n",
    "# multi_iterations = 30"
   ]
  },
  {
   "cell_type": "markdown",
   "metadata": {
    "tags": [
     "exp1"
    ]
   },
   "source": [
    "### Best Results"
   ]
  },
  {
   "cell_type": "code",
   "execution_count": 122,
   "metadata": {
    "tags": [
     "exp1"
    ]
   },
   "outputs": [
    {
     "name": "stdout",
     "output_type": "stream",
     "text": [
      "Nodes: 32, Epochs: 32, 1e+02% Accurate\n"
     ]
    }
   ],
   "source": [
    "best_param_accuracy_idx = np.unravel_index(np.argmax(mean_param_accuracy[0, :, :]), mean_param_accuracy.shape)\n",
    "best_param_accuracy = mean_param_accuracy[best_param_accuracy_idx]\n",
    "best_param_accuracy_nodes = multi_param_nodes[best_param_accuracy_idx[1]]\n",
    "best_param_accuracy_epochs = multi_param_epochs[best_param_accuracy_idx[2]]\n",
    "\n",
    "print(f'Nodes: {best_param_accuracy_nodes}, Epochs: {best_param_accuracy_epochs}, {best_param_accuracy * 100:.1}% Accurate')"
   ]
  },
  {
   "cell_type": "markdown",
   "metadata": {
    "tags": [
     "exp1"
    ]
   },
   "source": [
    "### Test Accuracy Surface"
   ]
  },
  {
   "cell_type": "code",
   "execution_count": 123,
   "metadata": {
    "executionInfo": {
     "elapsed": 2653358,
     "status": "aborted",
     "timestamp": 1615994110345,
     "user": {
      "displayName": "Andy Pack",
      "photoUrl": "https://lh3.googleusercontent.com/a-/AOh14GjA4K4ZhdArHXAFbAGr4n0aCv2HmyUpx4cy6zcUq34=s64",
      "userId": "16615063155528027547"
     },
     "user_tz": 0
    },
    "id": "ZGJVhz6iJU-7",
    "tags": [
     "exp1"
    ]
   },
   "outputs": [
    {
     "data": {
      "image/png": "[encoded data removed]",
      "text/plain": [
       "<Figure size 420x280 with 2 Axes>"
      ]
     },
     "metadata": {
      "needs_background": "light"
     },
     "output_type": "display_data"
    }
   ],
   "source": [
    "X, Y = np.meshgrid(multi_param_epochs, multi_param_nodes)\n",
    "\n",
    "# fig = plt.figure(figsize=(10, 5))\n",
    "fig = plt.figure()\n",
    "fig.set_dpi(fig_dpi)\n",
    "ax = plt.axes(projection='3d')\n",
    "\n",
    "surf = ax.plot_surface(X, Y, mean_param_accuracy[0, :, :], cmap='coolwarm')\n",
    "ax.set_title(f'Average Accuracy')\n",
    "ax.set_xlabel('Epochs')\n",
    "ax.set_ylabel('Hidden Nodes')\n",
    "ax.set_zlabel('Accuracy')\n",
    "ax.view_init(30, -110)\n",
    "# ax.set_zlim([0, 1])\n",
    "fig.colorbar(surf, shrink=0.3, aspect=6)\n",
    "\n",
    "plt.tight_layout()\n",
    "# plt.savefig(f'graphs/{exp1_testname}-acc-surf.png')\n",
    "plt.show()"
   ]
  },
  {
   "cell_type": "markdown",
   "metadata": {
    "tags": [
     "exp1"
    ]
   },
   "source": [
    "### Test Error Rate Curves"
   ]
  },
  {
   "cell_type": "code",
   "execution_count": 124,
   "metadata": {
    "executionInfo": {
     "elapsed": 2653349,
     "status": "aborted",
     "timestamp": 1615994110347,
     "user": {
      "displayName": "Andy Pack",
      "photoUrl": "https://lh3.googleusercontent.com/a-/AOh14GjA4K4ZhdArHXAFbAGr4n0aCv2HmyUpx4cy6zcUq34=s64",
      "userId": "16615063155528027547"
     },
     "user_tz": 0
    },
    "id": "Jrn3hKQAlGcc",
    "tags": [
     "exp1"
    ]
   },
   "outputs": [
    {
     "data": {
      "image/png": "[encoded data removed]",
      "text/plain": [
       "<Figure size 420x280 with 1 Axes>"
      ]
     },
     "metadata": {
      "needs_background": "light"
     },
     "output_type": "display_data"
    }
   ],
   "source": [
    "# fig = plt.figure(figsize=(7, 5))\n",
    "fig = plt.figure()\n",
    "fig.set_dpi(fig_dpi)\n",
    "\n",
    "for idx, layer in enumerate(mean_param_accuracy[0, :, :]):\n",
    "#     plt.errorbar(epochs, 1- layer, yerr=std_param_accuracy[idx], label=f'{hidden_nodes[idx]} Nodes')\n",
    "    plt.plot(multi_param_epochs, 1 - layer, '-', label=f'{multi_param_nodes[idx]} Nodes', lw=2)\n",
    "\n",
    "plt.legend()\n",
    "plt.grid()\n",
    "plt.title(f\"Test error rates for different epochs and hidden nodes\")\n",
    "plt.xlabel(\"Epochs\")\n",
    "plt.ylabel(\"Error Rate\")\n",
    "plt.ylim(0)\n",
    "\n",
    "plt.tight_layout()\n",
    "# plt.savefig(f'graphs/{exp1_testname}-error-rate-curves.png')\n",
    "plt.show()"
   ]
  },
  {
   "cell_type": "markdown",
   "metadata": {
    "tags": [
     "exp1"
    ]
   },
   "source": [
    "### Test/Train Error Over Nodes"
   ]
  },
  {
   "cell_type": "code",
   "execution_count": 125,
   "metadata": {
    "tags": [
     "exp1"
    ]
   },
   "outputs": [
    {
     "data": {
      "image/png": "[encoded data removed]",
      "text/plain": [
       "<Figure size 560x560 with 6 Axes>"
      ]
     },
     "metadata": {
      "needs_background": "light"
     },
     "output_type": "display_data"
    }
   ],
   "source": [
    "fig, axes = plt.subplots(math.ceil(len(multi_param_nodes) / 2), 2, figsize=(8, 8*math.ceil(len(multi_param_nodes) / 2)/3))\n",
    "fig.set_dpi(fig_dpi)\n",
    "\n",
    "for idx, (nodes, ax) in enumerate(zip(multi_param_nodes, axes.flatten())):\n",
    "    ax.set_title(f'Error Rates For {nodes} Nodes')\n",
    "#     ax.errorbar(multi_param_epochs, 1 - mean_param_accuracy[0, idx, :], fmt='x', ls='-', yerr=std_param_accuracy[0, idx, :], markersize=4, lw=1, label='Test', capsize=4, c=(0, 0, 1), ecolor=(0, 0, 1, 0.5))\n",
    "#     ax.errorbar(multi_param_epochs, 1 - mean_param_accuracy[1, idx, :], fmt='x', ls='-', yerr=std_param_accuracy[1, idx, :], markersize=4, lw=1, label='Train', capsize=4, c=(1, 0, 0), ecolor=(1, 0, 0, 0.5))\n",
    "    ax.plot(multi_param_epochs, 1 - mean_param_accuracy[0, idx, :], 'x', ls='-', lw=1, label='Test', c=(0, 0, 1))\n",
    "    ax.plot(multi_param_epochs, 1 - mean_param_accuracy[1, idx, :], 'x', ls='-', lw=1, label='Train', c=(1, 0, 0))\n",
    "    ax.set_ylim(0, np.round(np.max(1 - mean_param_accuracy + std_param_accuracy) + 0.05, 1))\n",
    "    ax.legend()\n",
    "    ax.grid()\n",
    "\n",
    "fig.tight_layout()\n",
    "# fig.savefig(f'graphs/{exp1_testname}-test-train-error-rate.png')"
   ]
  },
  {
   "cell_type": "code",
   "execution_count": 126,
   "metadata": {
    "tags": [
     "exp1"
    ]
   },
   "outputs": [
    {
     "data": {
      "image/png": "[encoded data removed]",
      "text/plain": [
       "<Figure size 560x560 with 6 Axes>"
      ]
     },
     "metadata": {
      "needs_background": "light"
     },
     "output_type": "display_data"
    }
   ],
   "source": [
    "fig, axes = plt.subplots(math.ceil(len(multi_param_nodes) / 2), 2, figsize=(8, 8*math.ceil(len(multi_param_nodes) / 2)/3))\n",
    "fig.set_dpi(fig_dpi)\n",
    "\n",
    "for idx, (nodes, ax) in enumerate(zip(multi_param_nodes, axes.flatten())):\n",
    "    ax.set_title(f'Error Rate Std Dev. For {nodes} Nodes')\n",
    "    ax.plot(multi_param_epochs, std_param_accuracy[0, idx, :], 'x', ls='-', lw=1, label='Test', c=(0, 0, 1))\n",
    "    ax.plot(multi_param_epochs, std_param_accuracy[1, idx, :], 'x', ls='-', lw=1, label='Train', c=(1, 0, 0))\n",
    "    ax.set_ylim(0, np.round(np.max(std_param_accuracy) + 0.05, 1))\n",
    "    ax.legend()\n",
    "    ax.grid()\n",
    "\n",
    "fig.tight_layout()\n",
    "# fig.savefig(f'graphs/{exp1_testname}-test-train-error-rate-std.png')"
   ]
  },
  {
   "cell_type": "markdown",
   "metadata": {
    "id": "eUPJuxUtVUc3",
    "tags": [
     "exp2"
    ]
   },
   "source": [
    "# Experiment 2\n",
    "\n",
    "For cancer dataset, choose an appropriate value of node and epochs, based on Exp 1) and use ensemble of individual (base) classifiers with random starting weights and Majority Vote to see if performance improves - repeat the majority vote ensemble at least thirty times with different 50/50 split and average and graph (Each classifier in the ensemble sees the same training patterns). Repeat for a different odd number (prevents tied vote) of individual classifiers between 3 and 25, and comment on the result of individualclassifier accuracy vs ensemble accuracy as number of base classifiers varies. Consider changing the number of nodes/epochs (both less complex and more complex) to see if you obtain better performance, and comment on the result with respect to why the optimal node/epoch combination may be different for an ensemble compared with the base classifier, as in Exp 1). \n",
    "\n",
    "(Hint4: to implement majority vote you need to determine the predicted class labels -probably easier to implement yourself rather than use the ensemble matlab functions)\n"
   ]
  },
  {
   "cell_type": "code",
   "execution_count": 6,
   "metadata": {
    "tags": [
     "exp2",
     "exp-func"
    ]
   },
   "outputs": [],
   "source": [
    "num_models=[1, 3, 9, 15, 25]\n",
    "\n",
    "def evaluate_ensemble_vote(hidden_nodes=16, \n",
    "                           epochs=50, \n",
    "                           batch_size=128,\n",
    "                           optimizer=lambda: 'sgd',\n",
    "                           weight_init=lambda: 'glorot_uniform',\n",
    "                           loss=lambda: 'categorical_crossentropy',\n",
    "                           metrics=['accuracy'],\n",
    "                           callbacks=None,\n",
    "                           validation_split=None,\n",
    "                           round_predictions=True,\n",
    "\n",
    "                           nmodels=num_models,\n",
    "                           tboard=True,\n",
    "                           exp='2',\n",
    "\n",
    "                           verbose=0,\n",
    "                           print_params=True,\n",
    "                           return_model=True,\n",
    "\n",
    "                           dtrain=data_train,\n",
    "                           dtest=data_test,\n",
    "                           ltrain=labels_train,\n",
    "                           ltest=labels_test):\n",
    "    for m in nmodels:\n",
    "        if print_params:\n",
    "            print(f\"Models: {m}\")\n",
    "            \n",
    "        response = {\"epochs\": list(),\n",
    "                    \"num_models\": m}\n",
    "            \n",
    "        ###################\n",
    "        ##   GET MODELS\n",
    "        ###################\n",
    "        if isinstance(hidden_nodes, tuple): # for range of hidden nodes, calculate value per model\n",
    "            if m == 1:\n",
    "                models = [get_model(int(np.mean(hidden_nodes)), weight_init=weight_init)]\n",
    "                response[\"nodes\"] = [int(np.mean(hidden_nodes))]\n",
    "                \n",
    "            else:\n",
    "                models = [get_model(int(i), weight_init=weight_init) \n",
    "                          for i in np.linspace(*hidden_nodes, num=m)]\n",
    "                response[\"nodes\"] = [int(i) for i in np.linspace(*hidden_nodes, num=m)]\n",
    "                \n",
    "        else: # not a range of epochs, just set to given value\n",
    "            models = [get_model(hidden_nodes, weight_init=weight_init) for _ in range(m)]\n",
    "            response[\"nodes\"] = hidden_nodes\n",
    "\n",
    "        for model in models:        \n",
    "            model.compile(\n",
    "                optimizer=optimizer(),\n",
    "                loss=loss(),\n",
    "                metrics=metrics\n",
    "                )        \n",
    "        \n",
    "        if tboard:\n",
    "            if callbacks is not None:\n",
    "                cb = [i() for i in callbacks] + [tensorboard_callback(prefix=f'exp{exp}-{m}-')]\n",
    "            else:\n",
    "                cb = [tensorboard_callback(prefix=f'exp{exp}-{m}-')]\n",
    "        \n",
    "        ###################\n",
    "        ##  TRAIN MODELS\n",
    "        ###################\n",
    "        histories = list()\n",
    "        for idx, model in enumerate(models):\n",
    "            if isinstance(epochs, tuple): # for range of epochs, calculate value per model\n",
    "                if m == 1:\n",
    "                    e = np.mean(epochs) # average, not lower bound if single model\n",
    "                else:\n",
    "                    e = np.linspace(*epochs, num=m)[idx]\n",
    "                e = int(e)\n",
    "            else: # not a range of epochs, just set to given value\n",
    "                e = epochs\n",
    "                \n",
    "#             print(m, e) # debug\n",
    "            \n",
    "            history = model.fit(dtrain.to_numpy(), \n",
    "                                ltrain.to_numpy(), \n",
    "                                epochs=e, \n",
    "                                verbose=verbose,\n",
    "\n",
    "                                callbacks=cb,\n",
    "                                validation_split=validation_split)\n",
    "            histories.append(history.history)\n",
    "            response[\"epochs\"].append(e)\n",
    "\n",
    "        ########################\n",
    "        ##  FEEDFORWARD TEST\n",
    "        ########################\n",
    "        # TEST DATA PREDICTIONS\n",
    "        response[\"predictions\"] = [model(dtest.to_numpy()) for model in models]\n",
    "        # TEST LABEL TENSOR\n",
    "        ltest_tensor = tf.constant(ltest.to_numpy())\n",
    "\n",
    "        ########################\n",
    "        ##  ENSEMBLE ACCURACY\n",
    "        ########################\n",
    "        ensem_sum_rounded = sum(tf.math.round(pred) for pred in response[\"predictions\"])\n",
    "        ensem_sum = sum(response[\"predictions\"])\n",
    "        # round predictions to onehot vectors and sum over all ensemble models\n",
    "        # take argmax for ensemble predicted class\n",
    "        \n",
    "        correct = 0 # number of correct ensemble predictions\n",
    "        correct_num_models = 0 # when correctly predicted ensembley, proportion of models correctly classifying\n",
    "        individual_accuracy = 0 # proportion of models correctly classifying\n",
    "        \n",
    "         # pc = predicted class, pcr = rounded predicted class, gt = ground truth\n",
    "        for pc, pcr, gt in zip(ensem_sum, ensem_sum_rounded, ltest_tensor):\n",
    "            gt_argmax = tf.math.argmax(gt)\n",
    "            \n",
    "            if round_predictions:\n",
    "                pred_val = pcr\n",
    "            else:\n",
    "                pred_val = pc\n",
    "            \n",
    "            correct_models = pcr[gt_argmax] / m # use rounded value so will divide nicely\n",
    "            individual_accuracy += correct_models\n",
    "            \n",
    "            if tf.math.argmax(pred_val) == gt_argmax: # ENSEMBLE EVALUATE HERE\n",
    "                correct += 1\n",
    "                correct_num_models += correct_models\n",
    "                \n",
    "#                 print(pc.numpy(), pcr.numpy(), gt.numpy(), (pcr[gt_argmax] / m).numpy(), True) # debug\n",
    "#             else:\n",
    "#                 print(pc.numpy(), pcr.numpy(), gt.numpy(), (pcr[gt_argmax] / m).numpy(), False)\n",
    "                \n",
    "        ########################\n",
    "        ##      RESULTS\n",
    "        ########################\n",
    "        response.update({\n",
    "            \"history\": histories,\n",
    "            \"optimizer\": model.optimizer.get_config(),\n",
    "            \"model_config\": json.loads(model.to_json()),\n",
    "            \"loss\": model.loss,\n",
    "            \"round_predictions\": round_predictions,\n",
    "            \n",
    "            \"accuracy\": correct / len(ltest), # average number of correct ensemble predictions\n",
    "            \"agreement\": correct_num_models / correct, # when correctly predicted ensembley, average proportion of models correctly classifying\n",
    "            \"individual_accuracy\": individual_accuracy / len(ltest) # average proportion of individual models correctly classifying\n",
    "        })\n",
    "\n",
    "        if return_model:\n",
    "            response[\"models\"] = models\n",
    "\n",
    "        yield response"
   ]
  },
  {
   "cell_type": "markdown",
   "metadata": {
    "tags": [
     "exp2"
    ]
   },
   "source": [
    "## Single Iteration\n",
    "Run a single iteration of ensemble model investigations"
   ]
  },
  {
   "cell_type": "code",
   "execution_count": 20,
   "metadata": {
    "tags": [
     "exp2"
    ]
   },
   "outputs": [
    {
     "name": "stdout",
     "output_type": "stream",
     "text": [
      "Models: 1\n",
      "13 [50]\n",
      "Models: 3\n",
      "[1, 13, 25] [50, 50, 50]\n",
      "Models: 9\n",
      "[1, 4, 7, 10, 13, 16, 19, 22, 25] [50, 50, 50, 50, 50, 50, 50, 50, 50]\n",
      "Models: 15\n",
      "[1, 2, 4, 6, 7, 9, 11, 13, 14, 16, 18, 19, 21, 23, 25] [50, 50, 50, 50, 50, 50, 50, 50, 50, 50, 50, 50, 50, 50, 50]\n",
      "Models: 25\n",
      "[1, 2, 3, 4, 5, 6, 7, 8, 9, 10, 11, 12, 13, 14, 15, 16, 17, 18, 19, 20, 21, 22, 23, 24, 25] [50, 50, 50, 50, 50, 50, 50, 50, 50, 50, 50, 50, 50, 50, 50, 50, 50, 50, 50, 50, 50, 50, 50, 50, 50]\n"
     ]
    }
   ],
   "source": [
    "single_ensem_results = list()\n",
    "# for test in evaluate_ensemble_vote(epochs=(5, 300), optimizer=lambda: tf.keras.optimizers.SGD(learning_rate=0.02)):\n",
    "for test in evaluate_ensemble_vote(hidden_nodes=(1, 25), optimizer=lambda: tf.keras.optimizers.SGD(learning_rate=0.02)):\n",
    "    single_ensem_results.append(test)\n",
    "    print(test[\"nodes\"], test[\"epochs\"])"
   ]
  },
  {
   "cell_type": "code",
   "execution_count": 23,
   "metadata": {
    "tags": [
     "exp2"
    ]
   },
   "outputs": [
    {
     "data": {
      "image/png": "[encoded data removed]",
      "text/plain": [
       "<Figure size 560x350 with 1 Axes>"
      ]
     },
     "metadata": {
      "needs_background": "light"
     },
     "output_type": "display_data"
    }
   ],
   "source": [
    "fig = plt.figure(figsize=(8, 5))\n",
    "fig.set_dpi(fig_dpi)\n",
    "\n",
    "ensem_x = [i[\"num_models\"] for i in single_ensem_results]\n",
    "\n",
    "plt.plot(ensem_x, 1 - np.array([i[\"accuracy\"] for i in single_ensem_results]), 'x-', label='Ensemble Test')\n",
    "plt.plot(ensem_x, 1 - np.array([i[\"individual_accuracy\"] for i in single_ensem_results]), 'x-', label='Individual Test')\n",
    "plt.plot(ensem_x, 1 - np.array([i[\"agreement\"] for i in single_ensem_results]), 'x-', label='Disagreement')\n",
    "\n",
    "plt.title(\"Test Error Rates for Horizontal Model Ensembles\")\n",
    "plt.ylim(0)\n",
    "plt.grid()\n",
    "plt.legend()\n",
    "plt.ylabel(\"Error Rate\")\n",
    "plt.xlabel(\"Number of Models\")\n",
    "plt.show()"
   ]
  },
  {
   "cell_type": "markdown",
   "metadata": {
    "tags": [
     "exp2"
    ]
   },
   "source": [
    "## Multiple Iterations\n",
    "Run multiple iterations of the ensemble model investigations and average\n",
    "\n",
    "### CSV Results\n",
    "\n",
    "| test | learning rate | momentum | batch size | hidden nodes | epochs | models |\n",
    "| --- | --- | --- | --- | --- | --- | --- |\n",
    "|1|0.06|0|128|16|50|1, 3, 9, 15, 25|\n",
    "|2|0.06|0|35|16|1 - 100|1, 3, 9, 15, 25|\n",
    "\n",
    "### Pickle Results\n",
    "\n",
    "| test | learning rate | momentum | batch size | hidden nodes | epochs | models |\n",
    "| --- | --- | --- | --- | --- | --- | --- |\n",
    "|3|0.06|0.05|35|16|1 - 300|1, 3, 9, 15, 25|\n",
    "|4|0.06|0.05|35|1 - 50|50|1, 3, 9, 15, 25|\n",
    "|5|0.06|0.05|35|1 - 300|50|1, 3, 9, 15, 25|\n",
    "|6|0.001|0.01|35|1 - 400|50|1, 3, 9, 15, 25|\n",
    "|7|0.01|0.01|35|1 - 400|30 - 150|1, 3, 9, 15, 25|\n",
    "|8|0.03|0.01|35|1 - 400|5 - 100|1, 3, 9, 15, 25|\n",
    "|9|0.1|0.01|35|1 - 400|20|1, 3, 9, 15, 25|\n",
    "|10|0.15|0.01|35|1 - 400|20|1, 3, 9, 15, 25, 35, 45|\n",
    "|11|0.15|0.01|35|1 - 400|10|1, 3, 9, 15, 25, 35, 45|"
   ]
  },
  {
   "cell_type": "code",
   "execution_count": 36,
   "metadata": {
    "tags": [
     "exp2"
    ]
   },
   "outputs": [
    {
     "name": "stdout",
     "output_type": "stream",
     "text": [
      "Iteration 1/30\n",
      "Iteration 2/30\n",
      "Iteration 3/30\n",
      "Iteration 4/30\n",
      "Iteration 5/30\n",
      "Iteration 6/30\n",
      "Iteration 7/30\n",
      "Iteration 8/30\n",
      "Iteration 9/30\n",
      "Iteration 10/30\n",
      "Iteration 11/30\n",
      "Iteration 12/30\n",
      "Iteration 13/30\n",
      "Iteration 14/30\n",
      "Iteration 15/30\n",
      "Iteration 16/30\n",
      "Iteration 17/30\n",
      "Iteration 18/30\n",
      "Iteration 19/30\n",
      "Iteration 20/30\n",
      "Iteration 21/30\n",
      "Iteration 22/30\n",
      "Iteration 23/30\n",
      "Iteration 24/30\n",
      "Iteration 25/30\n",
      "Iteration 26/30\n",
      "Iteration 27/30\n",
      "Iteration 28/30\n",
      "Iteration 29/30\n",
      "Iteration 30/30\n"
     ]
    }
   ],
   "source": [
    "multi_ensem_results = list()\n",
    "multi_ensem_iterations = 30\n",
    "for i in range(multi_ensem_iterations):\n",
    "    print(f\"Iteration {i+1}/{multi_ensem_iterations}\")\n",
    "    data_train, data_test, labels_train, labels_test = train_test_split(data, labels, test_size=0.5, stratify=labels)\n",
    "    multi_ensem_results.append(list(evaluate_ensemble_vote(epochs=10,\n",
    "                                                           hidden_nodes=(1, 400),\n",
    "                                                           nmodels=[1, 3, 9, 15, 25, 35, 45],\n",
    "                                                           optimizer=lambda: tf.keras.optimizers.SGD(learning_rate=0.15, momentum=0.01),\n",
    "                                                           weight_init=lambda: 'random_uniform',\n",
    "                                                           batch_size=35,\n",
    "                                                           dtrain=data_train, \n",
    "                                                           dtest=data_test, \n",
    "                                                           ltrain=labels_train, \n",
    "                                                           ltest=labels_test,\n",
    "                                                           return_model=False,\n",
    "                                                           print_params=False)))"
   ]
  },
  {
   "cell_type": "markdown",
   "metadata": {
    "tags": [
     "exp2"
    ]
   },
   "source": [
    "### Accuracy Tensor\n",
    "\n",
    "Create a tensor for holding the accuracy results\n",
    "\n",
    "(Iterations x Param x Number of models)\n",
    "\n",
    "#### Params\n",
    "0. Test Accuracy\n",
    "1. Train Accuracy\n",
    "2. Individual Accuracy\n",
    "3. Agreement"
   ]
  },
  {
   "cell_type": "code",
   "execution_count": 8,
   "metadata": {},
   "outputs": [],
   "source": [
    "def test_tensor_data(test):\n",
    "    return [test[\"accuracy\"], \n",
    "            np.mean([i[\"accuracy\"][-1] for i in test[\"history\"]]), # avg train acc\n",
    "            test[\"individual_accuracy\"], \n",
    "            test[\"agreement\"]]"
   ]
  },
  {
   "cell_type": "code",
   "execution_count": 38,
   "metadata": {
    "tags": [
     "exp2"
    ]
   },
   "outputs": [
    {
     "name": "stdout",
     "output_type": "stream",
     "text": [
      "30 Tests\n",
      "Models: [1, 3, 9, 15, 25, 35, 45]\n",
      "\n",
      "Loss: categorical_crossentropy\n",
      "LR: 0.15\n",
      "Momentum: 0.01\n"
     ]
    }
   ],
   "source": [
    "multi_ensem_models = sorted(list({i[\"num_models\"] for i in multi_ensem_results[0]}))\n",
    "multi_ensem_iter = len(multi_ensem_results)\n",
    "\n",
    "accuracy_ensem_tensor = np.zeros((multi_ensem_iter, 4, len(multi_ensem_models)))\n",
    "for iter_idx, iteration in enumerate(multi_ensem_results):\n",
    "    for single_test in iteration:\n",
    "        \n",
    "        ensem_models_idx = multi_ensem_models.index(single_test['num_models'])\n",
    "        accuracy_ensem_tensor[iter_idx, :, ensem_models_idx] = test_tensor_data(single_test)\n",
    "        \n",
    "mean_ensem_accuracy = np.mean(accuracy_ensem_tensor, axis=0)\n",
    "std_ensem_accuracy = np.std(accuracy_ensem_tensor, axis=0)\n",
    "\n",
    "print(f'{multi_ensem_iter} Tests')\n",
    "print(f'Models: {multi_ensem_models}')\n",
    "print()\n",
    "print(f'Loss: {multi_ensem_results[0][0][\"loss\"]}')\n",
    "print(f'LR: {multi_ensem_results[0][0][\"optimizer\"][\"learning_rate\"]:.3}')\n",
    "print(f'Momentum: {multi_ensem_results[0][0][\"optimizer\"][\"momentum\"]:.3}')"
   ]
  },
  {
   "cell_type": "markdown",
   "metadata": {
    "tags": [
     "exp2"
    ]
   },
   "source": [
    "#### Export/Import Test Sets\n",
    "\n",
    "Export mean and standard deviations for retrieval and visualisation "
   ]
  },
  {
   "cell_type": "code",
   "execution_count": 37,
   "metadata": {
    "tags": [
     "exp2"
    ]
   },
   "outputs": [],
   "source": [
    "pickle.dump(multi_ensem_results, open(\"results/exp2-test11.p\", \"wb\"))"
   ]
  },
  {
   "cell_type": "code",
   "execution_count": 12,
   "metadata": {},
   "outputs": [],
   "source": [
    "exp2_testname = 'exp2-test6'\n",
    "multi_ensem_results = pickle.load(open(f\"results/{exp2_testname}.p\", \"rb\"))"
   ]
  },
  {
   "cell_type": "raw",
   "metadata": {},
   "source": [
    "np.savetxt(\"exp2-mean.csv\", mean_ensem_accuracy, delimiter=',')\n",
    "np.savetxt(\"exp2-std.csv\", std_ensem_accuracy, delimiter=',')"
   ]
  },
  {
   "cell_type": "raw",
   "metadata": {},
   "source": [
    "mean_ensem_accuracy = np.loadtxt(\"results/test1-exp2-mean.csv\", delimiter=',')\n",
    "std_ensem_accuracy = np.loadtxt(\"results/test1-exp2-std.csv\", delimiter=',')"
   ]
  },
  {
   "cell_type": "markdown",
   "metadata": {
    "tags": [
     "exp2"
    ]
   },
   "source": [
    "### Best Results"
   ]
  },
  {
   "cell_type": "code",
   "execution_count": 39,
   "metadata": {
    "tags": [
     "exp2"
    ]
   },
   "outputs": [
    {
     "name": "stdout",
     "output_type": "stream",
     "text": [
      "Models: 1, 71.8% Accurate\n"
     ]
    }
   ],
   "source": [
    "best_ensem_accuracy_idx = np.unravel_index(np.argmax(mean_ensem_accuracy[0, :]), mean_ensem_accuracy.shape)\n",
    "best_ensem_accuracy = mean_ensem_accuracy[best_ensem_accuracy_idx]\n",
    "best_ensem_accuracy_models = multi_ensem_models[best_ensem_accuracy_idx[1]]\n",
    "\n",
    "print(f'Models: {best_ensem_accuracy_models}, {best_ensem_accuracy * 100:.3}% Accurate')"
   ]
  },
  {
   "cell_type": "markdown",
   "metadata": {
    "tags": [
     "exp2"
    ]
   },
   "source": [
    "### Test/Train Error Over Model Numbers"
   ]
  },
  {
   "cell_type": "code",
   "execution_count": 40,
   "metadata": {
    "tags": [
     "exp2"
    ]
   },
   "outputs": [
    {
     "data": {
      "image/png": "[encoded data removed]",
      "text/plain": [
       "<Figure size 560x350 with 1 Axes>"
      ]
     },
     "metadata": {
      "needs_background": "light"
     },
     "output_type": "display_data"
    }
   ],
   "source": [
    "fig = plt.figure(figsize=(8, 5))\n",
    "fig.set_dpi(fig_dpi)\n",
    "\n",
    "# plt.plot(multi_ensem_models, 1 - mean_ensem_accuracy[0, :], 'x-', label='Ensemble Test')\n",
    "# plt.plot(multi_ensem_models, 1 - mean_ensem_accuracy[2, :], 'x-', label='Individual Test')\n",
    "# plt.plot(multi_ensem_models, 1 - mean_ensem_accuracy[1, :], 'x-', label='Individual Train')\n",
    "# plt.plot(multi_ensem_models, 1 - mean_ensem_accuracy[3, :], 'x-', label='Agreement')\n",
    "\n",
    "plt.errorbar(multi_ensem_models, 1 - mean_ensem_accuracy[0, :], yerr=std_ensem_accuracy[0, :], capsize=4, label='Ensemble Test')\n",
    "plt.errorbar(multi_ensem_models, 1 - mean_ensem_accuracy[2, :], yerr=std_ensem_accuracy[2, :], capsize=4, label='Individual Test')\n",
    "plt.errorbar(multi_ensem_models, 1 - mean_ensem_accuracy[1, :], yerr=std_ensem_accuracy[1, :], capsize=4, label='Individual Train')\n",
    "plt.errorbar(multi_ensem_models, 1 - mean_ensem_accuracy[3, :], yerr=std_ensem_accuracy[3, :], capsize=4, label='Disagreement')\n",
    "\n",
    "plt.title(f\"Error Rate for Horizontal Ensemble Models\")\n",
    "# plt.ylim(0, 1)\n",
    "plt.ylim(0, np.max(1 - mean_ensem_accuracy + std_ensem_accuracy) + 0.05)\n",
    "plt.grid()\n",
    "plt.legend()\n",
    "plt.xlabel(\"Number of Models\")\n",
    "plt.ylabel(\"Error Rate\")\n",
    "# plt.savefig(f'graphs/{exp2_testname}-error-rate-curves.png')\n",
    "plt.show()"
   ]
  },
  {
   "cell_type": "markdown",
   "metadata": {
    "id": "FSZq1mNiVZq_",
    "tags": [
     "ex3"
    ]
   },
   "source": [
    "# Experiment 3\n",
    "\n",
    "Repeat Exp 2) for cancer dataset with two different optimisers of your choice e.g. 'trainlm' and 'trainrp'. Comment and discuss the result and decide which is more appropriate training algorithm for the problem. In your discussion, include in your description a detailed account of how the training algorithms (optimisations) work."
   ]
  },
  {
   "cell_type": "code",
   "execution_count": 9,
   "metadata": {},
   "outputs": [],
   "source": [
    "def evaluate_optimisers(optimizers=[(lambda: 'sgd', 'sgd'), \n",
    "                                    (lambda: 'adam', 'adam'), \n",
    "                                    (lambda: 'rmsprop', 'rmsprop')],\n",
    "                        weight_init=lambda: 'glorot_uniform',\n",
    "                        print_params=True,\n",
    "                        **kwargs\n",
    "                       ):\n",
    "    for o in optimizers:\n",
    "        \n",
    "        if print_params:\n",
    "            print(f'Optimiser: {o[1]}')\n",
    "            \n",
    "        yield list(evaluate_ensemble_vote(optimizer=o[0],\n",
    "                                          weight_init=weight_init,\n",
    "                                          exp=f'3-{o[1]}',\n",
    "                                          print_params=print_params,\n",
    "                                          **kwargs\n",
    "                                         ))"
   ]
  },
  {
   "cell_type": "markdown",
   "metadata": {},
   "source": [
    "## Single Iteration"
   ]
  },
  {
   "cell_type": "code",
   "execution_count": 13,
   "metadata": {},
   "outputs": [
    {
     "name": "stdout",
     "output_type": "stream",
     "text": [
      "Optimiser: sgd\n",
      "Models: 1\n",
      "Models: 3\n",
      "Models: 5\n",
      "Optimiser: adam\n",
      "Models: 1\n",
      "Models: 3\n",
      "Models: 5\n",
      "Optimiser: rmsprop\n",
      "Models: 1\n",
      "Models: 3\n",
      "Models: 5\n"
     ]
    }
   ],
   "source": [
    "single_optim_results = list()\n",
    "for test in evaluate_optimisers(epochs=(5, 300), nmodels=[1, 3, 5]):\n",
    "    single_optim_results.append(test)"
   ]
  },
  {
   "cell_type": "markdown",
   "metadata": {},
   "source": [
    "## Multiple Iterations\n",
    "\n",
    "### Pickle Results\n",
    "\n",
    "| test | optim1 | optim2 | optim3 | lr | momentum | epsilon | batch size | hidden nodes | epochs | models |\n",
    "| --- | --- | --- | --- | --- | --- | --- | --- | --- | --- | --- |\n",
    "| 1 | SGD | Adam | RMSprop | 0.1 | 0.0 | 1e7 | 35 | 16 | 1 - 100 | 1, 3, 9, 15, 25 |\n",
    "| 2 | SGD | Adam | RMSprop | 0.05 | 0.01 | 1e7 | 35 | 16 | 1 - 100 | 1, 3, 9, 15, 25 |"
   ]
  },
  {
   "cell_type": "code",
   "execution_count": 11,
   "metadata": {},
   "outputs": [
    {
     "name": "stdout",
     "output_type": "stream",
     "text": [
      "Iteration 1/30\n",
      "Iteration 2/30\n",
      "Iteration 3/30\n",
      "Iteration 4/30\n",
      "Iteration 5/30\n",
      "Iteration 6/30\n",
      "Iteration 7/30\n",
      "Iteration 8/30\n",
      "Iteration 9/30\n",
      "Iteration 10/30\n",
      "Iteration 11/30\n",
      "Iteration 12/30\n",
      "Iteration 13/30\n",
      "Iteration 14/30\n",
      "Iteration 15/30\n",
      "Iteration 16/30\n",
      "Iteration 17/30\n",
      "Iteration 18/30\n",
      "Iteration 19/30\n",
      "Iteration 20/30\n",
      "Iteration 21/30\n",
      "Iteration 22/30\n",
      "Iteration 23/30\n",
      "Iteration 24/30\n",
      "Iteration 25/30\n",
      "Iteration 26/30\n",
      "Iteration 27/30\n",
      "Iteration 28/30\n",
      "Iteration 29/30\n",
      "Iteration 30/30\n"
     ]
    }
   ],
   "source": [
    "multi_optim_results = list()\n",
    "multi_optim_iterations = 30\n",
    "\n",
    "multi_optim_lr = 0.05\n",
    "multi_optim_mom = 0.01\n",
    "multi_optim_eps = 1e-07\n",
    "multi_optims = [(lambda: tf_optim.SGD(learning_rate=multi_optim_lr, \n",
    "                                      momentum=multi_optim_mom), 'sgd'), \n",
    "                (lambda: tf_optim.Adam(learning_rate=multi_optim_lr, \n",
    "                                       epsilon=multi_optim_eps), 'adam'), \n",
    "                (lambda: tf_optim.RMSprop(learning_rate=multi_optim_lr, \n",
    "                                          momentum=multi_optim_mom, \n",
    "                                          epsilon=multi_optim_eps), 'rmsprop')]\n",
    "\n",
    "for i in range(multi_optim_iterations):\n",
    "    print(f\"Iteration {i+1}/{multi_optim_iterations}\")\n",
    "    data_train, data_test, labels_train, labels_test = train_test_split(data, labels, test_size=0.5, stratify=labels)\n",
    "    multi_optim_results.append(list(evaluate_optimisers(epochs=(1, 100),\n",
    "                                                        hidden_nodes=16,\n",
    "                                                        nmodels=[1, 3, 9, 15, 25],\n",
    "                                                        optimizers=multi_optims,\n",
    "                                                        weight_init=lambda: 'random_uniform',\n",
    "                                                        batch_size=35,\n",
    "                                                        dtrain=data_train, \n",
    "                                                        dtest=data_test, \n",
    "                                                        ltrain=labels_train, \n",
    "                                                        ltest=labels_test,\n",
    "                                                        return_model=False,\n",
    "                                                        print_params=False)))"
   ]
  },
  {
   "cell_type": "markdown",
   "metadata": {},
   "source": [
    "### Accuracy Tensor\n",
    "\n",
    "Create a tensor for holding the accuracy results\n",
    "\n",
    "(Iterations x Param x Number of models)\n",
    "\n",
    "#### Params\n",
    "0. Test Accuracy\n",
    "1. Train Accuracy\n",
    "2. Individual Accuracy\n",
    "3. Agreement"
   ]
  },
  {
   "cell_type": "code",
   "execution_count": 12,
   "metadata": {},
   "outputs": [
    {
     "name": "stdout",
     "output_type": "stream",
     "text": [
      "30 Tests\n",
      "Optimisers: ['SGD', 'Adam', 'RMSprop']\n",
      "Models: [1, 3, 9, 15, 25]\n",
      "\n",
      "Loss: categorical_crossentropy\n"
     ]
    }
   ],
   "source": [
    "multi_optim_results_dict = dict() # indexed by optimiser name\n",
    "multi_optim_iter = len(multi_optim_results) # number of iterations (30)\n",
    "\n",
    "#####################################\n",
    "## INDIVIDUAL RESULTS TO DICTIONARY\n",
    "#####################################\n",
    "for iter_idx, iteration in enumerate(multi_optim_results): # of 30 iterations\n",
    "    for model_idx, model_test in enumerate(iteration): # of 3 optimisers\n",
    "        for single_optim_test in model_test: # single tests for each optimisers\n",
    "            \n",
    "            single_optim_name = single_optim_test[\"optimizer\"][\"name\"]\n",
    "            if single_optim_name not in multi_optim_results_dict:\n",
    "                multi_optim_results_dict[single_optim_name] = list(list() for _ in range(multi_optim_iter))\n",
    "\n",
    "            multi_optim_results_dict[single_optim_name][iter_idx].append(single_optim_test)\n",
    "\n",
    "# list of numbers of models used in test\n",
    "multi_optim_models = sorted(list({i[\"num_models\"] for i in multi_optim_results[0][0]}))\n",
    "\n",
    "##################################\n",
    "## DICTIONARY TO RESULTS TENSORS\n",
    "##################################\n",
    "optim_tensors = dict()\n",
    "for optim, optim_results in multi_optim_results_dict.items():\n",
    "    \n",
    "    accuracy_optim_tensor = np.zeros((multi_optim_iter, 4, len(multi_optim_models)))\n",
    "    for iter_idx, iteration in enumerate(optim_results):\n",
    "        for single_test in iteration:\n",
    "\n",
    "            optim_models_idx = multi_optim_models.index(single_test['num_models'])\n",
    "            accuracy_optim_tensor[iter_idx, :, optim_models_idx] = test_tensor_data(single_test)\n",
    "            \n",
    "    optim_tensors[optim] = {\n",
    "        \"accuracy\": accuracy_optim_tensor,\n",
    "        \"mean\": np.mean(accuracy_optim_tensor, axis=0),\n",
    "        \"std\": np.std(accuracy_optim_tensor, axis=0)\n",
    "    }\n",
    "\n",
    "print(f'{multi_optim_iter} Tests')\n",
    "print(f'Optimisers: {list(multi_optim_results_dict.keys())}')\n",
    "print(f'Models: {multi_optim_models}')\n",
    "print()\n",
    "print(f'Loss: {multi_optim_results[0][0][0][\"loss\"]}')"
   ]
  },
  {
   "cell_type": "markdown",
   "metadata": {},
   "source": [
    "#### Export/Import Test Sets\n",
    "\n",
    "Export mean and standard deviations for retrieval and visualisation "
   ]
  },
  {
   "cell_type": "code",
   "execution_count": 13,
   "metadata": {},
   "outputs": [],
   "source": [
    "pickle.dump(multi_optim_results, open(\"results/exp3-test2.p\", \"wb\"))"
   ]
  },
  {
   "cell_type": "code",
   "execution_count": 97,
   "metadata": {},
   "outputs": [],
   "source": [
    "exp3_testname = 'exp3-test1'\n",
    "multi_optim_results = pickle.load(open(f\"results/{exp3_testname}.p\", \"rb\"))"
   ]
  },
  {
   "cell_type": "markdown",
   "metadata": {},
   "source": [
    "### Best Results"
   ]
  },
  {
   "cell_type": "code",
   "execution_count": 14,
   "metadata": {},
   "outputs": [
    {
     "name": "stdout",
     "output_type": "stream",
     "text": [
      "SGD: 9 Models, 72.3% Accurate\n",
      "Adam: 25 Models, 96.5% Accurate\n",
      "RMSprop: 1 Models, 96.7% Accurate\n"
     ]
    }
   ],
   "source": [
    "for optim, optim_results in optim_tensors.items():\n",
    "    best_optim_accuracy_idx = np.unravel_index(np.argmax(optim_results[\"mean\"][0, :]), optim_results[\"mean\"].shape)\n",
    "    best_optim_accuracy = optim_results[\"mean\"][best_optim_accuracy_idx]\n",
    "    best_optim_accuracy_models = multi_optim_models[best_optim_accuracy_idx[1]]\n",
    "\n",
    "    print(f'{optim}: {best_optim_accuracy_models} Models, {best_optim_accuracy * 100:.3}% Accurate')"
   ]
  },
  {
   "cell_type": "markdown",
   "metadata": {},
   "source": [
    "### Optimiser Error Rates"
   ]
  },
  {
   "cell_type": "code",
   "execution_count": 15,
   "metadata": {},
   "outputs": [
    {
     "data": {
      "image/png": "[encoded data removed]",
      "text/plain": [
       "<Figure size 1680x350 with 3 Axes>"
      ]
     },
     "metadata": {
      "needs_background": "light"
     },
     "output_type": "display_data"
    }
   ],
   "source": [
    "fig, axes = plt.subplots(1, 3, figsize=(24, 5))\n",
    "fig.set_dpi(fig_dpi)\n",
    "\n",
    "for idx, ((optimiser_name, tensors_dict), ax) in enumerate(zip(optim_tensors.items(), axes.flatten())):\n",
    "    ax.plot(multi_optim_models, 1 - tensors_dict[\"mean\"][0, :], 'x-', label='Ensemble Test')\n",
    "    ax.plot(multi_optim_models, 1 - tensors_dict[\"mean\"][2, :], 'x-', label='Individual Test')\n",
    "    ax.plot(multi_optim_models, 1 - tensors_dict[\"mean\"][1, :], 'x-', label='Individual Train')\n",
    "    ax.plot(multi_optim_models, 1 - tensors_dict[\"mean\"][3, :], 'x-', label='Disagreement')\n",
    "\n",
    "#     ax.errorbar(multi_optim_models, 1 - tensors_dict[\"mean\"][0, :], yerr=tensors_dict[\"std\"][0, :], capsize=4, label='Ensemble Test')\n",
    "#     ax.errorbar(multi_optim_models, 1 - tensors_dict[\"mean\"][2, :], yerr=tensors_dict[\"std\"][2, :], capsize=4, label='Individual Test')\n",
    "#     ax.errorbar(multi_optim_models, 1 - tensors_dict[\"mean\"][1, :], yerr=tensors_dict[\"std\"][1, :], capsize=4, label='Individual Train')\n",
    "#     ax.errorbar(multi_optim_models, 1 - tensors_dict[\"mean\"][3, :], yerr=tensors_dict[\"std\"][3, :], capsize=4, label='Disagreement')\n",
    "\n",
    "    ax.set_title(f\"{optimiser_name} Error Rate for Ensemble Models\")\n",
    "#     ax.set_ylim(0, 1)\n",
    "    ax.set_ylim(0, np.max([np.max(1 - i[\"mean\"] + i[\"std\"]) for i in optim_tensors.values()]) + 0.03)\n",
    "    ax.grid()\n",
    "    ax.legend()\n",
    "    ax.set_xlabel(\"Number of Models\")\n",
    "    ax.set_ylabel(\"Error Rate\")\n",
    "\n",
    "# plt.savefig(f'graphs/{exp3_testname}-error-rate-curves.png')\n",
    "plt.show()"
   ]
  },
  {
   "cell_type": "code",
   "execution_count": null,
   "metadata": {},
   "outputs": [],
   "source": []
  }
 ],
 "metadata": {
  "accelerator": "GPU",
  "colab": {
   "authorship_tag": "ABX9TyNAMGLKzaoWaq1wvQ+w0w8h",
   "collapsed_sections": [],
   "name": "nncw.ipynb",
   "provenance": [],
   "toc_visible": true
  },
  "kernelspec": {
   "display_name": "Python 3",
   "language": "python",
   "name": "python3"
  },
  "language_info": {
   "codemirror_mode": {
    "name": "ipython",
    "version": 3
   },
   "file_extension": ".py",
   "mimetype": "text/x-python",
   "name": "python",
   "nbconvert_exporter": "python",
   "pygments_lexer": "ipython3",
   "version": "3.8.8"
  },
  "toc-autonumbering": false,
  "toc-showcode": false,
  "toc-showmarkdowntxt": false,
  "toc-showtags": false
 },
 "nbformat": 4,
 "nbformat_minor": 4
}
